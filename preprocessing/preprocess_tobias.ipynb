{
 "cells": [
  {
   "cell_type": "markdown",
   "source": [
    "### Python Notebook used for testing and as a playground\n",
    "Creates preprocess.py"
   ],
   "metadata": {
    "collapsed": false,
    "pycharm": {
     "name": "#%% md\n"
    }
   }
  },
  {
   "cell_type": "code",
   "execution_count": null,
   "metadata": {
    "collapsed": true
   },
   "outputs": [],
   "source": [
    "import pandas as pd\n",
    "import random\n",
    "import os\n",
    "\n",
    "path = \"../data\""
   ]
  },
  {
   "cell_type": "code",
   "execution_count": null,
   "outputs": [],
   "source": [
    "df_sessions = pd.read_csv(os.path.join(path,\"train_sessions-1.csv\"))\n",
    "for i in range(2,6):\n",
    "    file = \"train_sessions-\" + str(i) + \".csv\"\n",
    "    df_sessions.append = pd.read_csv(os.path.join(path, file))\n",
    "df_sessions.drop(\"date\",axis=1,inplace=True)\n",
    "dict_sessions=dict()\n",
    "for row in df_sessions.itertuples(index=False):\n",
    "    if row.session_id not in dict_sessions:\n",
    "        dict_sessions[row.session_id]=list()\n",
    "    dict_sessions[row.session_id].append(row.item_id)"
   ],
   "metadata": {
    "collapsed": false,
    "pycharm": {
     "name": "#%%\n"
    }
   }
  },
  {
   "cell_type": "code",
   "execution_count": null,
   "outputs": [],
   "source": [
    "dict_sessions"
   ],
   "metadata": {
    "collapsed": false,
    "pycharm": {
     "name": "#%%\n"
    }
   }
  },
  {
   "cell_type": "code",
   "execution_count": null,
   "outputs": [],
   "source": [
    "#split into test and trainset (randomly):\n",
    "ratio=0.7\n",
    "random_state=1\n",
    "session_ids=sorted(list(dict_sessions))\n",
    "random.seed(random_state)\n",
    "train_ids=random.sample(session_ids,int(len(session_ids)*ratio))\n",
    "train_sessions={train_id:dict_sessions[train_id] for train_id in train_ids}\n",
    "test_ids=[id for id in session_ids if id not in train_sessions]\n",
    "test_sessions={test_id:dict_sessions[test_id] for test_id in test_ids}\n"
   ],
   "metadata": {
    "collapsed": false,
    "pycharm": {
     "name": "#%%\n"
    }
   }
  },
  {
   "cell_type": "code",
   "execution_count": null,
   "outputs": [],
   "source": [
    "#create train_purchase...and test_purchase (probably not needed, though)\n",
    "df_purchases = pd.read_csv(os.path.join(path,\"train_purchases.csv\"))\n"
   ],
   "metadata": {
    "collapsed": false,
    "pycharm": {
     "name": "#%%\n"
    }
   }
  },
  {
   "cell_type": "code",
   "execution_count": null,
   "outputs": [],
   "source": [
    "df_purchases.drop(\"date\",axis=1,inplace=True)\n",
    "df_purchases.set_index(\"session_id\",inplace=True)\n",
    "train_purchases=df_purchases.loc[train_ids]\n",
    "train_purchases.sort_index(inplace=True)\n",
    "test_purchases=df_purchases.loc[test_ids]\n",
    "test_purchases.sort_index(inplace=True)"
   ],
   "metadata": {
    "collapsed": false,
    "pycharm": {
     "name": "#%%\n"
    }
   }
  },
  {
   "cell_type": "code",
   "execution_count": null,
   "outputs": [],
   "source": [
    "#df_purchases.loc[13]"
   ],
   "metadata": {
    "collapsed": false,
    "pycharm": {
     "name": "#%%\n"
    }
   }
  },
  {
   "cell_type": "code",
   "execution_count": null,
   "outputs": [],
   "source": [
    "train_purchases[\"item_id\"].to_dict()"
   ],
   "metadata": {
    "collapsed": false,
    "pycharm": {
     "name": "#%%\n"
    }
   }
  },
  {
   "cell_type": "code",
   "execution_count": null,
   "outputs": [],
   "source": [
    "a=train_purchases.to_dict()"
   ],
   "metadata": {
    "collapsed": false,
    "pycharm": {
     "name": "#%%\n"
    }
   }
  },
  {
   "cell_type": "code",
   "execution_count": null,
   "outputs": [],
   "source": [
    "def load_sessions(data_path=\"../data\"):\n",
    "    \"\"\"\n",
    "    load and merge the train_session-x.csv data\n",
    "    :param data_path:\n",
    "    :return: dictionary {session_id: [item_id1,item_id2,...]}\n",
    "    \"\"\"\n",
    "    df_sessions = pd.read_csv(os.path.join(path,\"train_sessions-1.csv\"))\n",
    "    for i in range(2,6):\n",
    "        file = \"train_sessions-\" + str(i) + \".csv\"\n",
    "        df_sessions.append = pd.read_csv(os.path.join(path, file))\n",
    "    df_sessions.drop(\"date\",axis=1,inplace=True)\n",
    "    dict_sessions=dict()\n",
    "    for row in df_sessions.itertuples(index=False):\n",
    "        if row.session_id not in dict_sessions:\n",
    "            dict_sessions[row.session_id]=list()\n",
    "        dict_sessions[row.session_id].append(row.item_id)\n",
    "    return dict_sessions"
   ],
   "metadata": {
    "collapsed": false,
    "pycharm": {
     "name": "#%%\n"
    }
   }
  },
  {
   "cell_type": "code",
   "execution_count": null,
   "outputs": [],
   "source": [
    "def train_test_split(data_path=\"../data\",ratio=0.7,random_state=1,purchase_format=\"dict\"):\n",
    "    \"\"\"\n",
    "    :param data_path: path to datadir where train_sessions-x.csv and train_purchases are stored\n",
    "    :param ratio: ratio for train and test split\n",
    "    :param random_state: random_state (default 1)\n",
    "    :param smaller_size: max_length of sessions_ids is 1000 (train & test combined)\n",
    "    :param purchase_format: (choose a format for y-values aka purchase data, default is \"dict\", but \"df\" might be useful sometimes)\n",
    "    :return: train_sessions, test_sessions, train_purchases, test_purchases\n",
    "    or in other words:\n",
    "    :return: X_train,X_test,y_train,y_test\n",
    "\n",
    "    note: test_purchase (aka y_test) is probably not needed afterwards, because evaluation dont need them\n",
    "    \"\"\"\n",
    "\n",
    "\n",
    "    #load train_sessions\n",
    "    dict_sessions=load_sessions(data_path)\n",
    "\n",
    "    #split sessions into train and test\n",
    "    session_ids=sorted(list(dict_sessions))\n",
    "    random.seed(random_state)\n",
    "    #train\n",
    "    train_ids=random.sample(session_ids,int(len(session_ids)*ratio))\n",
    "    train_sessions={train_id:dict_sessions[train_id] for train_id in train_ids}\n",
    "    #test\n",
    "    test_ids=[id for id in session_ids if id not in train_sessions]\n",
    "    test_sessions={test_id:dict_sessions[test_id] for test_id in test_ids}\n",
    "\n",
    "    #create train_purchase and test_purchase\n",
    "    #load\n",
    "    df_purchases = pd.read_csv(os.path.join(path, \"train_purchases.csv\"))\n",
    "    df_purchases.drop(\"date\", axis=1, inplace=True)\n",
    "    df_purchases.set_index(\"session_id\", inplace=True)\n",
    "    #train\n",
    "    train_purchases = df_purchases.loc[train_ids]\n",
    "    train_purchases.sort_index(inplace=True)\n",
    "    #test\n",
    "    test_purchases = df_purchases.loc[test_ids]\n",
    "    test_purchases.sort_index(inplace=True)\n",
    "\n",
    "    if purchase_format==\"df\":\n",
    "        return train_sessions, test_sessions, train_purchases, test_purchases\n",
    "    else:\n",
    "        #convert purchases into dicts:\n",
    "        train_purchases=train_purchases[\"item_id\"].to_dict()\n",
    "        test_purchases=test_purchases[\"item_id\"].to_dict()\n",
    "        return train_sessions, test_sessions, train_purchases, test_purchases"
   ],
   "metadata": {
    "collapsed": false,
    "pycharm": {
     "name": "#%%\n"
    }
   }
  },
  {
   "cell_type": "code",
   "execution_count": null,
   "outputs": [],
   "source": [
    "train_sessions, test_sessions, train_purchases, test_purchases=train_test_split(ratio=1)"
   ],
   "metadata": {
    "collapsed": false,
    "pycharm": {
     "name": "#%%\n"
    }
   }
  },
  {
   "cell_type": "code",
   "execution_count": null,
   "outputs": [],
   "source": [
    "challenge=\"leaderboard\"\n",
    "filename=\"test_\" + challenge + \"_sessions.csv\"\n",
    "df_test = pd.read_csv(os.path.join(path,filename))\n",
    "df_test.drop(\"date\",axis=1,inplace=True)\n",
    "test_sessions=dict()\n",
    "for row in df_test.itertuples(index=False):\n",
    "    if row.session_id not in test_sessions:\n",
    "        test_sessions[row.session_id]=list()\n",
    "    test_sessions[row.session_id].append(row.item_id)\n",
    "test_sessions"
   ],
   "metadata": {
    "collapsed": false,
    "pycharm": {
     "name": "#%%\n"
    }
   }
  },
  {
   "cell_type": "code",
   "execution_count": null,
   "outputs": [],
   "source": [
    "def train_test_split_challenge(challenge=\"leaderboard\"):\n",
    "    \"\"\"\n",
    "\n",
    "    :param challenge: choose <\"leaderboard\",\"final\">\n",
    "    :return: X_train, X_test, y_train\n",
    "    \"\"\"\n",
    "    #loaded full training data into train_sessions\n",
    "    train_sessions, placeholder, train_purchases, placeholder1=train_test_split(ratio=1)\n",
    "\n",
    "    #load test data\n",
    "    filename=\"test_\" + challenge + \"_sessions.csv\"\n",
    "    df_test = pd.read_csv(os.path.join(path,filename))\n",
    "    df_test.drop(\"date\",axis=1,inplace=True)\n",
    "    test_sessions=dict()\n",
    "    for row in df_test.itertuples(index=False):\n",
    "        if row.session_id not in test_sessions:\n",
    "            test_sessions[row.session_id]=list()\n",
    "        test_sessions[row.session_id].append(row.item_id)\n",
    "    return train_sessions, test_sessions, train_purchases"
   ],
   "metadata": {
    "collapsed": false,
    "pycharm": {
     "name": "#%%\n"
    }
   }
  },
  {
   "cell_type": "code",
   "execution_count": null,
   "outputs": [],
   "source": [
    "a,b,c=train_test_split_challenge(\"final\")"
   ],
   "metadata": {
    "collapsed": false,
    "pycharm": {
     "name": "#%%\n"
    }
   }
  },
  {
   "cell_type": "code",
   "execution_count": null,
   "outputs": [],
   "source": [],
   "metadata": {
    "collapsed": false,
    "pycharm": {
     "name": "#%%\n"
    }
   }
  }
 ],
 "metadata": {
  "kernelspec": {
   "display_name": "Python 3",
   "language": "python",
   "name": "python3"
  },
  "language_info": {
   "codemirror_mode": {
    "name": "ipython",
    "version": 2
   },
   "file_extension": ".py",
   "mimetype": "text/x-python",
   "name": "python",
   "nbconvert_exporter": "python",
   "pygments_lexer": "ipython2",
   "version": "2.7.6"
  }
 },
 "nbformat": 4,
 "nbformat_minor": 0
}