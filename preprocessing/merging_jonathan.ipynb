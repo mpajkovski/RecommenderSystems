{
 "cells": [
  {
   "cell_type": "code",
   "execution_count": 1,
   "metadata": {},
   "outputs": [],
   "source": [
    "import pandas as pd\n",
    "import numpy as np\n",
    "import scipy.sparse\n",
    "import os\n",
    "\n",
    "path = r\"./../data\""
   ]
  },
  {
   "cell_type": "markdown",
   "metadata": {},
   "source": [
    "# Load DataFrames"
   ]
  },
  {
   "cell_type": "code",
   "execution_count": 2,
   "metadata": {},
   "outputs": [],
   "source": [
    "df_purchases = pd.read_csv(os.path.join(path,\"train_purchases.csv\"))\n",
    "df_sessions = pd.read_csv(os.path.join(path,\"train_sessions-1.csv\"))\n",
    "for i in range(2,6):\n",
    "    file = \"train_sessions-\" + str(i) + \".csv\"\n",
    "    df_sessions.append = pd.read_csv(os.path.join(path, file))\n",
    "df_item_features = pd.read_csv(os.path.join(path,\"item_features.csv\"))\n",
    "df_candidate_items = pd.read_csv(os.path.join(path, \"candidate_items.csv\"))\n",
    "df_test_sessions = pd.read_csv(os.path.join(path, \"test_leaderboard_sessions.csv\"))"
   ]
  },
  {
   "cell_type": "markdown",
   "metadata": {},
   "source": [
    "# Combine session and purchase"
   ]
  },
  {
   "cell_type": "code",
   "execution_count": 3,
   "metadata": {},
   "outputs": [
    {
     "data": {
      "text/plain": [
       "'\\ndict_items = dict()\\nfor row in df_full_session.itertuples():\\n    if row[2] not in dict_items:\\n        dict_items[row[2]] = list()\\n    dict_items[row[2]].append(row[3])\\n'"
      ]
     },
     "execution_count": 3,
     "metadata": {},
     "output_type": "execute_result"
    }
   ],
   "source": [
    "frames = [df_purchases, df_sessions]\n",
    "df_full_session = pd.concat(frames, sort=True)\n",
    "\n",
    "dict_sessions = dict()\n",
    "for row in df_full_session.itertuples():\n",
    "    if row[3] not in dict_sessions:\n",
    "        dict_sessions[row[3]] = list()\n",
    "    dict_sessions[row[3]].append(row[2])\n",
    "    \n",
    "\"\"\"\n",
    "dict_items = dict()\n",
    "for row in df_full_session.itertuples():\n",
    "    if row[2] not in dict_items:\n",
    "        dict_items[row[2]] = list()\n",
    "    dict_items[row[2]].append(row[3])\n",
    "\"\"\""
   ]
  },
  {
   "cell_type": "code",
   "execution_count": 4,
   "metadata": {},
   "outputs": [
    {
     "data": {
      "text/html": [
       "<div>\n",
       "<style scoped>\n",
       "    .dataframe tbody tr th:only-of-type {\n",
       "        vertical-align: middle;\n",
       "    }\n",
       "\n",
       "    .dataframe tbody tr th {\n",
       "        vertical-align: top;\n",
       "    }\n",
       "\n",
       "    .dataframe thead th {\n",
       "        text-align: right;\n",
       "    }\n",
       "</style>\n",
       "<table border=\"1\" class=\"dataframe\">\n",
       "  <thead>\n",
       "    <tr style=\"text-align: right;\">\n",
       "      <th></th>\n",
       "      <th>date</th>\n",
       "      <th>item_id</th>\n",
       "      <th>session_id</th>\n",
       "    </tr>\n",
       "  </thead>\n",
       "  <tbody>\n",
       "    <tr>\n",
       "      <th>0</th>\n",
       "      <td>2020-12-18 21:26:47.986</td>\n",
       "      <td>15085</td>\n",
       "      <td>3</td>\n",
       "    </tr>\n",
       "    <tr>\n",
       "      <th>1</th>\n",
       "      <td>2020-03-13 19:36:15.507</td>\n",
       "      <td>18626</td>\n",
       "      <td>13</td>\n",
       "    </tr>\n",
       "    <tr>\n",
       "      <th>2</th>\n",
       "      <td>2020-08-26 19:20:32.049</td>\n",
       "      <td>24911</td>\n",
       "      <td>18</td>\n",
       "    </tr>\n",
       "    <tr>\n",
       "      <th>3</th>\n",
       "      <td>2020-11-02 17:16:45.92</td>\n",
       "      <td>12534</td>\n",
       "      <td>19</td>\n",
       "    </tr>\n",
       "    <tr>\n",
       "      <th>4</th>\n",
       "      <td>2020-02-26 18:27:44.114</td>\n",
       "      <td>13226</td>\n",
       "      <td>24</td>\n",
       "    </tr>\n",
       "    <tr>\n",
       "      <th>...</th>\n",
       "      <td>...</td>\n",
       "      <td>...</td>\n",
       "      <td>...</td>\n",
       "    </tr>\n",
       "    <tr>\n",
       "      <th>948761</th>\n",
       "      <td>2021-02-26 15:02:38.456</td>\n",
       "      <td>1373</td>\n",
       "      <td>888293</td>\n",
       "    </tr>\n",
       "    <tr>\n",
       "      <th>948762</th>\n",
       "      <td>2021-02-26 06:56:37.392</td>\n",
       "      <td>21872</td>\n",
       "      <td>888293</td>\n",
       "    </tr>\n",
       "    <tr>\n",
       "      <th>948763</th>\n",
       "      <td>2021-02-12 13:12:18.128</td>\n",
       "      <td>22719</td>\n",
       "      <td>888296</td>\n",
       "    </tr>\n",
       "    <tr>\n",
       "      <th>948764</th>\n",
       "      <td>2021-02-12 13:11:40.988</td>\n",
       "      <td>22862</td>\n",
       "      <td>888296</td>\n",
       "    </tr>\n",
       "    <tr>\n",
       "      <th>948765</th>\n",
       "      <td>2021-02-12 13:12:36.443</td>\n",
       "      <td>22774</td>\n",
       "      <td>888296</td>\n",
       "    </tr>\n",
       "  </tbody>\n",
       "</table>\n",
       "<p>1948766 rows × 3 columns</p>\n",
       "</div>"
      ],
      "text/plain": [
       "                           date  item_id  session_id\n",
       "0       2020-12-18 21:26:47.986    15085           3\n",
       "1       2020-03-13 19:36:15.507    18626          13\n",
       "2       2020-08-26 19:20:32.049    24911          18\n",
       "3        2020-11-02 17:16:45.92    12534          19\n",
       "4       2020-02-26 18:27:44.114    13226          24\n",
       "...                         ...      ...         ...\n",
       "948761  2021-02-26 15:02:38.456     1373      888293\n",
       "948762  2021-02-26 06:56:37.392    21872      888293\n",
       "948763  2021-02-12 13:12:18.128    22719      888296\n",
       "948764  2021-02-12 13:11:40.988    22862      888296\n",
       "948765  2021-02-12 13:12:36.443    22774      888296\n",
       "\n",
       "[1948766 rows x 3 columns]"
      ]
     },
     "metadata": {},
     "output_type": "display_data"
    },
    {
     "data": {
      "text/plain": [
       "{3: [15085, 9655, 9655], 13: [18626, 15654], 18: [24911, 18316, 2507, 4026]}"
      ]
     },
     "metadata": {},
     "output_type": "display_data"
    }
   ],
   "source": [
    "display(df_full_session)\n",
    "display(dict(list(dict_sessions.items())[:3]))"
   ]
  },
  {
   "cell_type": "markdown",
   "metadata": {},
   "source": [
    "# Create item-item neighborhood"
   ]
  },
  {
   "cell_type": "code",
   "execution_count": 5,
   "metadata": {},
   "outputs": [],
   "source": [
    "array_candidates = df_candidate_items[\"item_id\"]\n",
    "\n",
    "# sparse matrix item item\n",
    "sm_item_item = scipy.sparse.lil_matrix((28144,28144), dtype=np.int8)\n",
    "\n",
    "#iterate through all sessions\n",
    "for session, items in dict_sessions.items():\n",
    "    #within a session compare all items with each other\n",
    "    for item_2 in items:\n",
    "        #only write items to the second dimension if they are possible candidates for recommendation\n",
    "        if item_2 in array_candidates.values:\n",
    "            #continuation of comparing all items with each other\n",
    "            for item_1 in items:\n",
    "                #dont recommend itself\n",
    "                if item_1 != item_2:\n",
    "                    #dim_1 = searched for item, dim_2 recommender candidate\n",
    "                    sm_item_item[item_1, item_2] += 1"
   ]
  },
  {
   "cell_type": "code",
   "execution_count": 6,
   "metadata": {},
   "outputs": [
    {
     "name": "stdout",
     "output_type": "stream",
     "text": [
      "Dimensions of item_item similarity: (28144, 28144)\n",
      "Amount of elements in this matrix: 2300847\n",
      "  (0, 1018)\t1\n",
      "  (0, 13081)\t1\n",
      "  (0, 13922)\t1\n",
      "  (0, 22956)\t1\n",
      "  (0, 24921)\t3\n"
     ]
    }
   ],
   "source": [
    "print(\"Dimensions of item_item similarity:\",sm_item_item.shape)\n",
    "print(\"Amount of elements in this matrix:\", sm_item_item.count_nonzero())\n",
    "print(sm_item_item.getrow(28143))"
   ]
  },
  {
   "cell_type": "markdown",
   "metadata": {},
   "source": [
    "# Predict\n",
    "1 session as is test_leaderbord_sessions.csv"
   ]
  },
  {
   "cell_type": "code",
   "execution_count": 7,
   "metadata": {},
   "outputs": [
    {
     "data": {
      "text/html": [
       "<div>\n",
       "<style scoped>\n",
       "    .dataframe tbody tr th:only-of-type {\n",
       "        vertical-align: middle;\n",
       "    }\n",
       "\n",
       "    .dataframe tbody tr th {\n",
       "        vertical-align: top;\n",
       "    }\n",
       "\n",
       "    .dataframe thead th {\n",
       "        text-align: right;\n",
       "    }\n",
       "</style>\n",
       "<table border=\"1\" class=\"dataframe\">\n",
       "  <thead>\n",
       "    <tr style=\"text-align: right;\">\n",
       "      <th></th>\n",
       "      <th>session_id</th>\n",
       "      <th>item_id</th>\n",
       "      <th>date</th>\n",
       "    </tr>\n",
       "  </thead>\n",
       "  <tbody>\n",
       "    <tr>\n",
       "      <th>0</th>\n",
       "      <td>26</td>\n",
       "      <td>19185</td>\n",
       "      <td>2021-06-16 09:53:54.158</td>\n",
       "    </tr>\n",
       "    <tr>\n",
       "      <th>1</th>\n",
       "      <td>200</td>\n",
       "      <td>17089</td>\n",
       "      <td>2021-06-25 12:23:40.811</td>\n",
       "    </tr>\n",
       "    <tr>\n",
       "      <th>2</th>\n",
       "      <td>200</td>\n",
       "      <td>17089</td>\n",
       "      <td>2021-06-25 12:24:36.631</td>\n",
       "    </tr>\n",
       "    <tr>\n",
       "      <th>3</th>\n",
       "      <td>200</td>\n",
       "      <td>8060</td>\n",
       "      <td>2021-06-25 12:24:41.677</td>\n",
       "    </tr>\n",
       "    <tr>\n",
       "      <th>4</th>\n",
       "      <td>200</td>\n",
       "      <td>4758</td>\n",
       "      <td>2021-06-25 12:24:50.692</td>\n",
       "    </tr>\n",
       "    <tr>\n",
       "      <th>...</th>\n",
       "      <td>...</td>\n",
       "      <td>...</td>\n",
       "      <td>...</td>\n",
       "    </tr>\n",
       "    <tr>\n",
       "      <th>229349</th>\n",
       "      <td>4439653</td>\n",
       "      <td>25955</td>\n",
       "      <td>2021-06-11 10:22:57.47</td>\n",
       "    </tr>\n",
       "    <tr>\n",
       "      <th>229350</th>\n",
       "      <td>4439653</td>\n",
       "      <td>12179</td>\n",
       "      <td>2021-06-11 10:23:00.663</td>\n",
       "    </tr>\n",
       "    <tr>\n",
       "      <th>229351</th>\n",
       "      <td>4439757</td>\n",
       "      <td>2078</td>\n",
       "      <td>2021-06-30 11:42:15.073</td>\n",
       "    </tr>\n",
       "    <tr>\n",
       "      <th>229352</th>\n",
       "      <td>4439757</td>\n",
       "      <td>2078</td>\n",
       "      <td>2021-06-30 11:43:13.725</td>\n",
       "    </tr>\n",
       "    <tr>\n",
       "      <th>229353</th>\n",
       "      <td>4439757</td>\n",
       "      <td>6790</td>\n",
       "      <td>2021-06-30 11:44:52.704</td>\n",
       "    </tr>\n",
       "  </tbody>\n",
       "</table>\n",
       "<p>229354 rows × 3 columns</p>\n",
       "</div>"
      ],
      "text/plain": [
       "        session_id  item_id                     date\n",
       "0               26    19185  2021-06-16 09:53:54.158\n",
       "1              200    17089  2021-06-25 12:23:40.811\n",
       "2              200    17089  2021-06-25 12:24:36.631\n",
       "3              200     8060  2021-06-25 12:24:41.677\n",
       "4              200     4758  2021-06-25 12:24:50.692\n",
       "...            ...      ...                      ...\n",
       "229349     4439653    25955   2021-06-11 10:22:57.47\n",
       "229350     4439653    12179  2021-06-11 10:23:00.663\n",
       "229351     4439757     2078  2021-06-30 11:42:15.073\n",
       "229352     4439757     2078  2021-06-30 11:43:13.725\n",
       "229353     4439757     6790  2021-06-30 11:44:52.704\n",
       "\n",
       "[229354 rows x 3 columns]"
      ]
     },
     "metadata": {},
     "output_type": "display_data"
    }
   ],
   "source": [
    "display(df_test_sessions)\n",
    "dict_test_sessions = dict()\n",
    "for row in df_test_sessions.itertuples():\n",
    "    if row[1] not in dict_test_sessions:\n",
    "        dict_test_sessions[row[1]] = list()\n",
    "    dict_test_sessions[row[1]].append(row[2])\n"
   ]
  },
  {
   "cell_type": "code",
   "execution_count": 78,
   "metadata": {},
   "outputs": [],
   "source": [
    "# iterate through all test sessions\n",
    "df_recommendations = pd.DataFrame(columns=[\"session_id\", \"item_id\", \"rank\"])\n",
    "for session, items in dict_test_sessions.items():\n",
    "    # save recommendations for this session (28144 is the total amount of available items)\n",
    "    recommendations = np.zeros(28144)\n",
    "    # iterate over items within a session\n",
    "    for item in items:\n",
    "        row = sm_item_item.getrow(item).toarray()\n",
    "        row = np.array(row[0])\n",
    "        # add recommendations per item to recommendations per session\n",
    "        recommendations += row\n",
    "    # create the three columns session_id, recommended_item_id, rank\n",
    "    item_ids = recommendations.nonzero()[0]\n",
    "    values = [recommendations[i] for i in indexes]\n",
    "    arr_session = [session for i in range(0,len(values))]\n",
    "\n",
    "    # create intermediate df\n",
    "    df_session_rec = pd.DataFrame([arr_session, item_ids, values]).transpose()\n",
    "    df_session_rec.columns = df_recommendations.columns\n",
    "    df_session_rec.sort_values(by=\"rank\", ascending=False, inplace=True)\n",
    "\n",
    "    # cut top 100 recommendations\n",
    "    df_session_rec = df_session_rec.head(100)\n",
    "    new_rank = list(range(1, len(df_session_rec.index) + 1))\n",
    "    df_session_rec[\"rank\"] = new_rank\n",
    "    df_recommendations = df_recommendations.append(df_session_rec) \n"
   ]
  },
  {
   "cell_type": "code",
   "execution_count": 79,
   "metadata": {},
   "outputs": [
    {
     "name": "stdout",
     "output_type": "stream",
     "text": [
      "     session_id  item_id rank\n",
      "37         26.0   3260.0    1\n",
      "58         26.0   5383.0    2\n",
      "21         26.0   1578.0    3\n",
      "266        26.0  27416.0    4\n",
      "241        26.0  25188.0    5\n",
      "..          ...      ...  ...\n",
      "250   4439757.0  14336.0   96\n",
      "249   4439757.0  14314.0   97\n",
      "248   4439757.0  14282.0   98\n",
      "247   4439757.0  14216.0   99\n",
      "246   4439757.0  14072.0  100\n",
      "\n",
      "[5000000 rows x 3 columns]\n"
     ]
    }
   ],
   "source": [
    "print(df_recommendations)"
   ]
  },
  {
   "cell_type": "code",
   "execution_count": null,
   "metadata": {},
   "outputs": [],
   "source": []
  }
 ],
 "metadata": {
  "interpreter": {
   "hash": "aee8b7b246df8f9039afb4144a1f6fd8d2ca17a180786b69acc140d282b71a49"
  },
  "kernelspec": {
   "display_name": "Python 3.10.1 64-bit",
   "language": "python",
   "name": "python3"
  },
  "language_info": {
   "codemirror_mode": {
    "name": "ipython",
    "version": 3
   },
   "file_extension": ".py",
   "mimetype": "text/x-python",
   "name": "python",
   "nbconvert_exporter": "python",
   "pygments_lexer": "ipython3",
   "version": "3.10.1"
  },
  "orig_nbformat": 4
 },
 "nbformat": 4,
 "nbformat_minor": 2
}
