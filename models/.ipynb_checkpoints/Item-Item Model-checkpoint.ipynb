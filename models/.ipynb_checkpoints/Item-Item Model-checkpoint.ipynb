{
 "cells": [
  {
   "cell_type": "code",
   "execution_count": 2,
   "id": "17405058",
   "metadata": {},
   "outputs": [],
   "source": [
    "import math\n",
    "import random\n",
    "import pandas as pd\n",
    "import pickle\n",
    "from collections import defaultdict\n",
    "from operator import itemgetter\n",
    "\n",
    "import pandas as pd\n",
    "import numpy as np\n",
    "import scipy.sparse\n",
    "import os\n",
    "\n",
    "path = r\"./../data\"\n",
    "\n",
    "df_sessions_final = pd.DataFrame()\n",
    "df_sessions = pd.read_csv(os.path.join(path,\"train_sessions-1.csv\"))\n",
    "for i in range(1,7):\n",
    "    if i == 6:\n",
    "        file = 'test_leaderboard_sessions.csv'\n",
    "    else:\n",
    "        file = \"train_sessions-\" + str(i) + \".csv\"\n",
    "    df_sessions_final = pd.concat((df_sessions_final,pd.read_csv(os.path.join(path, file))))\n",
    "df_sessions_final.to_csv('train_sessions.csv',index=False)\n",
    "\n",
    "\n",
    "\n",
    "\n",
    "def MakeDataUsable(df_raw):\n",
    "    # This function creates a dictionary of each session in the dataset and adds all the items viewed as an array\n",
    "    \n",
    "    df_train = {}\n",
    "    for i in range(1, len(df_raw)):\n",
    "        row = df_raw[i].split(',')\n",
    "        session_id = row[0]\n",
    "        item_id = row[1]\n",
    "        if( df_raw[i-1].split(',')[0] != session_id):\n",
    "            session_id = int(session_id)\n",
    "            item_id = int(item_id)\n",
    "            df_train.setdefault(session_id, [])\n",
    "            df_train[session_id].append(item_id)\n",
    "            \n",
    "        else:\n",
    "            session_id = int(session_id)\n",
    "            item_id = int(item_id)\n",
    "            df_train[session_id].append(item_id)\n",
    "            \n",
    "    return df_train\n",
    "\n",
    "\n",
    "def ImportDataset(filepath):\n",
    "    \n",
    "    with open(filepath) as f:\n",
    "        rows = f.readlines()\n",
    "    return MakeDataUsable(rows)\n",
    "\n",
    "def CreateCandidate(filepath):\n",
    "    # creates the set of all candidate items\n",
    "    with open(filepath) as f:\n",
    "        rows = f.readlines()\n",
    "        candidate = set()\n",
    "        for i in range(1, len(rows)):\n",
    "            row = rows[i]\n",
    "            candidate.add(int(row))\n",
    "\n",
    "        return candidate\n",
    "\n",
    "\n",
    "\n",
    "\n",
    "class ItemCF(object):\n",
    "    \n",
    "    def __init__(self, df_train):\n",
    "        \n",
    "        # model initialisation, assigns the train dataset\n",
    "        self.df_train = df_train\n",
    "        self.SimilarityMatrix = dict() \n",
    "\n",
    "    def ComputeSimilarity(self):\n",
    "        # This function compute the cosine similarity of items \n",
    "        N = defaultdict(int) \n",
    "        for user, items in self.df_train.items():\n",
    "            \n",
    "            itemset = set(items)\n",
    "            for i in itemset:\n",
    "                N[i] += 1\n",
    "                \n",
    "            for i in items:\n",
    "                self.SimilarityMatrix.setdefault(i, dict())\n",
    "                \n",
    "                for j in items:\n",
    "                    if i == j:\n",
    "                        continue\n",
    "                    self.SimilarityMatrix[i].setdefault(j, 0)\n",
    "                    self.SimilarityMatrix[i][j] += 1\n",
    "\n",
    "                        \n",
    "        for i, related_items in self.SimilarityMatrix.items():\n",
    "            for j, cij in related_items.items():\n",
    "                self.SimilarityMatrix[i][j] = cij / math.sqrt(N[i]*N[j])\n",
    "\n",
    "\n",
    "    \n",
    "\n",
    "    def MakeRecommendations(self, user, N, K):\n",
    "\n",
    "        recommendations = dict()\n",
    "        #First get the list of user's favorite items\n",
    "        items = self.df_train[user]\n",
    "        point = 1\n",
    "        for item in items:\n",
    "            # For each user's favorite item, find the K most similar items in the item similarity matrix\n",
    "            for i, sim in sorted(self.SimilarityMatrix[item].items(), key=itemgetter(1), reverse=True)[:K]:\n",
    "                if i in items:\n",
    "                    continue  # If it is repeated with the user's favorite item, skip it directly\n",
    "                recommendations.setdefault(i, 0.)\n",
    "                recommendations[i] += sim * point\n",
    "            point += 1.5\n",
    "        # Arrange in reverse order according to the similarity of the recommended items,\n",
    "        # and then recommend the top N items to the user\n",
    "        return sorted(recommendations.items(), key=itemgetter(1), reverse=True)[:N]\n",
    "\n",
    "    def train(self):\n",
    "        self.ComputeSimilarity()\n",
    "\n",
    "if __name__ == \"__main__\":\n",
    "    train = ImportDataset(r\"train_sessions.csv\")\n",
    "#     #leaderboard = LoadData(\"../../dataset/test_leaderboard_sessions.csv\")\n",
    "    candidate = CreateCandidate((os.path.join(path, \"candidate_items.csv\")))\n",
    "    ItemCF2 = ItemCF(train)\n",
    "    ItemCF2.train()\n"
   ]
  },
  {
   "cell_type": "code",
   "execution_count": null,
   "id": "cb0c4b03",
   "metadata": {},
   "outputs": [],
   "source": [
    "with open('train_sessions.csv') as f:\n",
    "        rows = f.readlines()"
   ]
  },
  {
   "cell_type": "code",
   "execution_count": 4,
   "id": "ada5778c",
   "metadata": {},
   "outputs": [],
   "source": [
    "import time"
   ]
  },
  {
   "cell_type": "code",
   "execution_count": 4,
   "id": "6800050e",
   "metadata": {},
   "outputs": [],
   "source": [
    "df_test = ImportDataset(r'C:\\Users\\Marko Pajkovski\\Documents\\GitHub\\group-1\\data\\test_leaderboard_sessions.csv')"
   ]
  },
  {
   "cell_type": "code",
   "execution_count": 7,
   "id": "113226e5",
   "metadata": {
    "scrolled": true
   },
   "outputs": [
    {
     "name": "stdout",
     "output_type": "stream",
     "text": [
      "CPU times: total: 438 ms\n",
      "Wall time: 436 ms\n"
     ]
    }
   ],
   "source": [
    "%%time\n",
    "results = []\n",
    "stop = 0\n",
    "for i in df_test:\n",
    "    stop+=1\n",
    "    ans = ItemCF2.MakeRecommendations(i, 100, 2000)\n",
    "    ii = 1\n",
    "    if stop ==100:\n",
    "        break\n",
    "    for j,k in ans:\n",
    "        if(ii > 100):\n",
    "            break\n",
    "        if(j in candidate):\n",
    "            results.append([str(i),str(j),str(ii)])\n",
    "            ii = ii+1\n"
   ]
  },
  {
   "cell_type": "code",
   "execution_count": null,
   "id": "6ed4c948",
   "metadata": {},
   "outputs": [],
   "source": [
    "def predict(self, X_test):\n",
    "    results = []\n",
    "    for i in X_test:\n",
    "        ii = 1\n",
    "        recommendations = self.ItemCF2.MakeRecommendations(i, 100, 2000)\n",
    "        for j,k in recommendations:\n",
    "            if(ii > 100):\n",
    "                break\n",
    "            if(j in candidate):\n",
    "                results.append([str(i),str(j),str(ii)])\n",
    "                ii = ii+1\n",
    "                \n",
    "    return pd.DataFrame(results,columns = ['session_id','item_id','rank'])#.to_csv('sampleSubmission.csv',index=False)\n"
   ]
  },
  {
   "cell_type": "code",
   "execution_count": 10,
   "id": "4e04c680",
   "metadata": {},
   "outputs": [
    {
     "data": {
      "text/plain": [
       "99"
      ]
     },
     "execution_count": 10,
     "metadata": {},
     "output_type": "execute_result"
    }
   ],
   "source": [
    "pd.DataFrame(results,columns = ['session_id','item_id','rank'])#.to_csv('sampleSubmission.csv',index=False)"
   ]
  },
  {
   "cell_type": "code",
   "execution_count": 8,
   "id": "4219321b",
   "metadata": {},
   "outputs": [
    {
     "name": "stdout",
     "output_type": "stream",
     "text": [
      "The file has been deleted successfully\n"
     ]
    }
   ],
   "source": [
    "if os.path.exists('train_sessions.csv'):\n",
    "    os.remove('train_sessions.csv')\n",
    "    print(\"The file has been deleted successfully\")\n",
    "else:\n",
    "    print(\"The file does not exist!\")"
   ]
  },
  {
   "cell_type": "code",
   "execution_count": null,
   "id": "7a7c7f89",
   "metadata": {},
   "outputs": [],
   "source": []
  },
  {
   "cell_type": "code",
   "execution_count": 29,
   "id": "332ed6dd",
   "metadata": {},
   "outputs": [],
   "source": [
    "class Item_Item_recommender(object):\n",
    "    \n",
    "\n",
    "    def __init__(self, df_train):\n",
    "        \n",
    "        # model initialisation, assigns the train dataset\n",
    "        self.df_train = df_train\n",
    "        self.SimilarityMatrix = dict() \n",
    "\n",
    "    def ComputeSimilarity(self):\n",
    "        # This function compute the cosine similarity of items \n",
    "        N = defaultdict(int) \n",
    "        for user, items in self.df_train.items():\n",
    "            \n",
    "            itemset = set(items)\n",
    "            for i in itemset:\n",
    "                N[i] += 1\n",
    "                \n",
    "            for i in items:\n",
    "                self.SimilarityMatrix.setdefault(i, dict())\n",
    "                \n",
    "                for j in items:\n",
    "                    if i == j:\n",
    "                        continue\n",
    "                    self.SimilarityMatrix[i].setdefault(j, 0)\n",
    "                    self.SimilarityMatrix[i][j] += 1\n",
    "\n",
    "                        \n",
    "        for i, related_items in self.SimilarityMatrix.items():\n",
    "            for j, cij in related_items.items():\n",
    "                self.SimilarityMatrix[i][j] = cij / math.sqrt(N[i]*N[j])\n",
    "    \n",
    "    \n",
    "\n",
    "    def train(self):\n",
    "        self.ComputeSimilarity()\n",
    "        \n",
    "        \n",
    "    def MakeRecommendations(self, user, N, K):\n",
    "\n",
    "        recommendations = dict()\n",
    "        #First get the list of user's favorite items\n",
    "        items = self.df_train[user]\n",
    "        point = 1\n",
    "        for item in items:\n",
    "            # For each user's favorite item, find the K most similar items in the item similarity matrix\n",
    "            for i, sim in sorted(self.SimilarityMatrix[item].items(), key=itemgetter(1), reverse=True)[:K]:\n",
    "                if i in items:\n",
    "                    continue  # If it is repeated with the user's favorite item, skip it directly\n",
    "                recommendations.setdefault(i, 0.)\n",
    "                recommendations[i] += sim * point\n",
    "            point += 1.5\n",
    "        # Arrange in reverse order according to the similarity of the recommended items,\n",
    "        # and then recommend the top N items to the user\n",
    "        return sorted(recommendations.items(), key=itemgetter(1), reverse=True)[:N]\n",
    "\n",
    "    def predict(self, X_test):\n",
    "        results = []\n",
    "        for i in X_test:\n",
    "            ii = 1\n",
    "            recommendations = self.MakeRecommendations(i, 100, 2000)\n",
    "            for j,k in recommendations:\n",
    "                if(ii > 100):\n",
    "                    break\n",
    "                if(j in candidate):\n",
    "                    results.append([str(i),str(j),str(ii)])\n",
    "                    ii = ii+1\n",
    "\n",
    "        return pd.DataFrame(results,columns = ['session_id','item_id','rank'])#.to_csv('sampleSubmission.csv',index=False)\n"
   ]
  },
  {
   "cell_type": "code",
   "execution_count": 30,
   "id": "eabd7536",
   "metadata": {},
   "outputs": [],
   "source": [
    "item_item = Item_Item_recommender(train)"
   ]
  },
  {
   "cell_type": "code",
   "execution_count": 31,
   "id": "980029a6",
   "metadata": {},
   "outputs": [],
   "source": [
    "item_item.train()"
   ]
  },
  {
   "cell_type": "code",
   "execution_count": 32,
   "id": "a076f683",
   "metadata": {},
   "outputs": [],
   "source": [
    "predicitons = item_item.predict(df_test)"
   ]
  },
  {
   "cell_type": "code",
   "execution_count": 35,
   "id": "3422aa43",
   "metadata": {},
   "outputs": [
    {
     "data": {
      "text/plain": [
       "50000"
      ]
     },
     "execution_count": 35,
     "metadata": {},
     "output_type": "execute_result"
    }
   ],
   "source": [
    "predicitons.session_id.nunique()"
   ]
  },
  {
   "cell_type": "code",
   "execution_count": 38,
   "id": "2a0c75b7",
   "metadata": {},
   "outputs": [
    {
     "data": {
      "text/plain": [
       "50000"
      ]
     },
     "execution_count": 38,
     "metadata": {},
     "output_type": "execute_result"
    }
   ],
   "source": [
    "len(df_test.keys())"
   ]
  },
  {
   "cell_type": "code",
   "execution_count": null,
   "id": "8d350151",
   "metadata": {},
   "outputs": [],
   "source": [
    "if os.path.exists('train_sessions.csv'):\n",
    "    os.remove('train_sessions.csv')\n",
    "    print(\"The file has been deleted successfully\")\n",
    "else:\n",
    "    print(\"The file does not exist!\")"
   ]
  },
  {
   "cell_type": "code",
   "execution_count": null,
   "id": "4b5f0b32",
   "metadata": {},
   "outputs": [],
   "source": []
  }
 ],
 "metadata": {
  "kernelspec": {
   "display_name": "Python 3 (ipykernel)",
   "language": "python",
   "name": "python3"
  },
  "language_info": {
   "codemirror_mode": {
    "name": "ipython",
    "version": 3
   },
   "file_extension": ".py",
   "mimetype": "text/x-python",
   "name": "python",
   "nbconvert_exporter": "python",
   "pygments_lexer": "ipython3",
   "version": "3.9.12"
  }
 },
 "nbformat": 4,
 "nbformat_minor": 5
}
