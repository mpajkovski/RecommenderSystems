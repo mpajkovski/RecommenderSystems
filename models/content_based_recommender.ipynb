{
 "cells": [
  {
   "cell_type": "markdown",
   "source": [
    "# Presentation of the Content-Based Recommender"
   ],
   "metadata": {
    "collapsed": false,
    "pycharm": {
     "name": "#%% md\n"
    }
   }
  },
  {
   "cell_type": "code",
   "execution_count": 1,
   "outputs": [],
   "source": [
    "import pandas as pd\n",
    "import sys\n",
    "sys.path.append(\"..\")\n",
    "from preprocessing.preprocess import train_test_split,train_test_split_challenge\n",
    "from evaluation.evaluation import run_evaluation\n",
    "from models import ContentBasedRecommendation"
   ],
   "metadata": {
    "collapsed": false,
    "pycharm": {
     "name": "#%%\n"
    }
   }
  },
  {
   "cell_type": "markdown",
   "source": [
    "## Expected Pipeline for local evaluation"
   ],
   "metadata": {
    "collapsed": false
   }
  },
  {
   "cell_type": "code",
   "execution_count": 2,
   "outputs": [],
   "source": [
    "#load the data and split it into train and test\n",
    "X_train, X_test, y_train, y_test = train_test_split(ratio=0.95,y_format=\"df\")"
   ],
   "metadata": {
    "collapsed": false,
    "pycharm": {
     "name": "#%%\n"
    }
   }
  },
  {
   "cell_type": "code",
   "execution_count": 3,
   "outputs": [],
   "source": [
    "#create and train recommender:\n",
    "content_based_rec=ContentBasedRecommendation()\n",
    "content_based_rec.train(X_train,y_train)"
   ],
   "metadata": {
    "collapsed": false,
    "pycharm": {
     "name": "#%%\n"
    }
   }
  },
  {
   "cell_type": "code",
   "execution_count": 4,
   "outputs": [],
   "source": [
    "#predict new sessions\n",
    "df_predict=content_based_rec.predict(X_test)"
   ],
   "metadata": {
    "collapsed": false,
    "pycharm": {
     "name": "#%%\n"
    }
   }
  },
  {
   "cell_type": "code",
   "execution_count": 5,
   "outputs": [
    {
     "data": {
      "text/plain": "{'MRR': 0.04517771439350812,\n 'mean_position': 26.90053557765876,\n 'std_position': 27.235323917280397,\n 'accuracy': 0.26223916532905295,\n 'accuracy_100': 0.26223916532905295,\n 'accuracy_50': 0.20806581059390047,\n 'accuracy_10': 0.10914927768860354}"
     },
     "execution_count": 5,
     "metadata": {},
     "output_type": "execute_result"
    }
   ],
   "source": [
    "#evaluate df_predict\n",
    "run_evaluation(df_predict)"
   ],
   "metadata": {
    "collapsed": false,
    "pycharm": {
     "name": "#%%\n"
    }
   }
  },
  {
   "cell_type": "markdown",
   "source": [
    "## Expected Pipeline for online evaluation\n",
    "**Important**: Use now train_test_split_challenge()"
   ],
   "metadata": {
    "collapsed": false,
    "pycharm": {
     "name": "#%% md\n"
    }
   }
  },
  {
   "cell_type": "code",
   "execution_count": 6,
   "outputs": [],
   "source": [
    "#load the data and split it into train and test\n",
    "X_train, X_test, y_train= train_test_split_challenge(challenge=\"leaderboard\",y_format=\"df\")"
   ],
   "metadata": {
    "collapsed": false,
    "pycharm": {
     "name": "#%%\n"
    }
   }
  },
  {
   "cell_type": "code",
   "execution_count": 7,
   "outputs": [],
   "source": [
    "#create and train recommender:\n",
    "content_based_rec=ContentBasedRecommendation(candidate_only=True)\n",
    "content_based_rec.train(X_train,y_train)"
   ],
   "metadata": {
    "collapsed": false,
    "pycharm": {
     "name": "#%%\n"
    }
   }
  },
  {
   "cell_type": "code",
   "execution_count": 8,
   "outputs": [
    {
     "data": {
      "text/plain": "         session_id  item_id  rank\n0                26     3260     1\n1                26    17740     2\n2                26     5199     3\n3                26    23612     4\n4                26     1937     5\n...             ...      ...   ...\n4999995     4439757     8620    96\n4999996     4439757    15651    97\n4999997     4439757    21821    98\n4999998     4439757    15715    99\n4999999     4439757    16114   100\n\n[5000000 rows x 3 columns]",
      "text/html": "<div>\n<style scoped>\n    .dataframe tbody tr th:only-of-type {\n        vertical-align: middle;\n    }\n\n    .dataframe tbody tr th {\n        vertical-align: top;\n    }\n\n    .dataframe thead th {\n        text-align: right;\n    }\n</style>\n<table border=\"1\" class=\"dataframe\">\n  <thead>\n    <tr style=\"text-align: right;\">\n      <th></th>\n      <th>session_id</th>\n      <th>item_id</th>\n      <th>rank</th>\n    </tr>\n  </thead>\n  <tbody>\n    <tr>\n      <th>0</th>\n      <td>26</td>\n      <td>3260</td>\n      <td>1</td>\n    </tr>\n    <tr>\n      <th>1</th>\n      <td>26</td>\n      <td>17740</td>\n      <td>2</td>\n    </tr>\n    <tr>\n      <th>2</th>\n      <td>26</td>\n      <td>5199</td>\n      <td>3</td>\n    </tr>\n    <tr>\n      <th>3</th>\n      <td>26</td>\n      <td>23612</td>\n      <td>4</td>\n    </tr>\n    <tr>\n      <th>4</th>\n      <td>26</td>\n      <td>1937</td>\n      <td>5</td>\n    </tr>\n    <tr>\n      <th>...</th>\n      <td>...</td>\n      <td>...</td>\n      <td>...</td>\n    </tr>\n    <tr>\n      <th>4999995</th>\n      <td>4439757</td>\n      <td>8620</td>\n      <td>96</td>\n    </tr>\n    <tr>\n      <th>4999996</th>\n      <td>4439757</td>\n      <td>15651</td>\n      <td>97</td>\n    </tr>\n    <tr>\n      <th>4999997</th>\n      <td>4439757</td>\n      <td>21821</td>\n      <td>98</td>\n    </tr>\n    <tr>\n      <th>4999998</th>\n      <td>4439757</td>\n      <td>15715</td>\n      <td>99</td>\n    </tr>\n    <tr>\n      <th>4999999</th>\n      <td>4439757</td>\n      <td>16114</td>\n      <td>100</td>\n    </tr>\n  </tbody>\n</table>\n<p>5000000 rows × 3 columns</p>\n</div>"
     },
     "execution_count": 8,
     "metadata": {},
     "output_type": "execute_result"
    }
   ],
   "source": [
    "#predict new sessions\n",
    "df_predict=content_based_rec.predict(X_test)\n",
    "df_predict"
   ],
   "metadata": {
    "collapsed": false,
    "pycharm": {
     "name": "#%%\n"
    }
   }
  },
  {
   "cell_type": "code",
   "execution_count": 9,
   "outputs": [],
   "source": [
    "#write it to file (preferable not in github - beacause of size: 80MB)\n",
    "df_predict.to_csv(\"../../results_group-1/cbr.csv\",header=True,index=False)"
   ],
   "metadata": {
    "collapsed": false,
    "pycharm": {
     "name": "#%%\n"
    }
   }
  },
  {
   "cell_type": "markdown",
   "source": [
    "### Results from the official leaderboard\n",
    "0.056353288434953394\n"
   ],
   "metadata": {
    "collapsed": false,
    "pycharm": {
     "name": "#%% md\n"
    }
   }
  },
  {
   "cell_type": "markdown",
   "source": [],
   "metadata": {
    "collapsed": false
   }
  }
 ],
 "metadata": {
  "kernelspec": {
   "display_name": "Python 3",
   "language": "python",
   "name": "python3"
  },
  "language_info": {
   "codemirror_mode": {
    "name": "ipython",
    "version": 2
   },
   "file_extension": ".py",
   "mimetype": "text/x-python",
   "name": "python",
   "nbconvert_exporter": "python",
   "pygments_lexer": "ipython2",
   "version": "2.7.6"
  }
 },
 "nbformat": 4,
 "nbformat_minor": 0
}