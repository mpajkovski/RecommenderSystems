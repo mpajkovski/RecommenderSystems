{
 "cells": [
  {
   "cell_type": "markdown",
   "metadata": {
    "collapsed": true,
    "pycharm": {
     "name": "#%% md\n"
    }
   },
   "source": [
    "# Data Exploration\n",
    "Fabian"
   ]
  },
  {
   "cell_type": "code",
   "execution_count": 1,
   "metadata": {
    "pycharm": {
     "is_executing": true,
     "name": "#%%\n"
    }
   },
   "outputs": [],
   "source": [
    "import pandas as pd\n",
    "import numpy as np\n",
    "import sweetviz as sv\n",
    "import os\n",
    "\n",
    "path = r\"./../dressipi_recsys2022\""
   ]
  },
  {
   "cell_type": "code",
   "execution_count": 2,
   "metadata": {
    "pycharm": {
     "name": "#%%\n"
    }
   },
   "outputs": [],
   "source": [
    "# load DFs\n",
    "df_purchases = pd.read_csv(os.path.join(path,\"train_purchases.csv\"))\n",
    "df_sessions = pd.read_csv(os.path.join(path,\"train_sessions.csv\"))\n",
    "df_item_features = pd.read_csv(os.path.join(path,\"item_features.csv\"))"
   ]
  },
  {
   "cell_type": "code",
   "execution_count": 3,
   "metadata": {
    "pycharm": {
     "name": "#%%\n"
    }
   },
   "outputs": [],
   "source": [
    "# sweet viz\n",
    "# analyze_report = sv.analyze(df_purchases)\n",
    "# analyze_report.show_html('df_purchases.html', open_browser=True)\n",
    "\n",
    "# analyze_report = sv.analyze(df_sessions)\n",
    "# analyze_report.show_html('df_sessions.html', open_browser=True)\n",
    "\n",
    "# analyze_report = sv.analyze(df_item_features)\n",
    "# analyze_report.show_html('df_item_features.html', open_browser=True)"
   ]
  },
  {
   "cell_type": "markdown",
   "metadata": {},
   "source": [
    "## Q1: How much is the overlap of purchases if the session is similar?\n",
    "What I did:\n",
    "- store train sessions in dictionary\n",
    "- for every train session find \"closest\" train sample\n",
    "- see how much the purchases overlap\n",
    "\n",
    "Findings:\n",
    "- overlap of sessions and purchases is very small\n",
    "- item to item similarity will be neccesary to predict many items and not just do user-user similarity and see what similar user bought\n"
   ]
  },
  {
   "cell_type": "code",
   "execution_count": 4,
   "metadata": {},
   "outputs": [],
   "source": [
    "## helper functions\n",
    "\n",
    "def overlap_error(a, b):\n",
    "    # this should be more sophisticated^^   \n",
    "    err = 0\n",
    "    for el in a:\n",
    "        if el not in b:\n",
    "            err += 1\n",
    "        else:\n",
    "            err-=1000\n",
    "    \n",
    "    for el in b:\n",
    "        if el not in a:\n",
    "            err += 1\n",
    "\n",
    "    return err\n",
    "\n",
    "\n",
    "def get_purchases_from_sid(sid):\n",
    "    n_items = max(df_item_features[\"item_id\"].unique())\n",
    "    \n",
    "    item_list = list()\n",
    "    \n",
    "    for row in df_purchases.iterrows():\n",
    "        sid_p = row[1][\"session_id\"]\n",
    "        \n",
    "        if sid_p > sid:\n",
    "            break\n",
    "        \n",
    "        iid = row[1][\"item_id\"]\n",
    "        if sid_p == sid:\n",
    "            item_list.append(iid)\n",
    "    \n",
    "    return item_list\n"
   ]
  },
  {
   "cell_type": "code",
   "execution_count": 5,
   "metadata": {},
   "outputs": [],
   "source": [
    "# set parameters\n",
    "cutoff = 1e5\n",
    "n_items = max(df_item_features[\"item_id\"].unique())\n",
    "\n",
    "# store train sessions in dictionary to quickly look them up\n",
    "ses_dic_train = dict()\n",
    "for row in df_sessions.iterrows():\n",
    "    sid = row[1][\"session_id\"]\n",
    "    if sid > cutoff:\n",
    "        break # use as train\n",
    "        \n",
    "    iid = row[1][\"item_id\"]\n",
    "    if sid not in ses_dic_train.keys():\n",
    "        ses_dic_train[sid] = list()\n",
    "    ses_dic_train[sid].append(iid)\n",
    "    "
   ]
  },
  {
   "cell_type": "code",
   "execution_count": 6,
   "metadata": {},
   "outputs": [],
   "source": [
    "# ?Maybe?: prune train samples (those that overlap too hard ) \n"
   ]
  },
  {
   "cell_type": "code",
   "execution_count": 7,
   "metadata": {},
   "outputs": [],
   "source": [
    "# loadt test sessions\n",
    "ses_dic_test = dict()\n",
    "for row in df_sessions.iterrows():\n",
    "    sid = row[1][\"session_id\"]\n",
    "    if sid < cutoff:\n",
    "        continue\n",
    "    elif sid > cutoff+100: \n",
    "        break\n",
    "        \n",
    "    iid = row[1][\"item_id\"]\n",
    "    if sid not in ses_dic_test.keys():\n",
    "        ses_dic_test[sid] = list()\n",
    "    ses_dic_test[sid].append(iid)\n",
    "    "
   ]
  },
  {
   "cell_type": "code",
   "execution_count": 8,
   "metadata": {},
   "outputs": [
    {
     "name": "stdout",
     "output_type": "stream",
     "text": [
      "sid 100004\n",
      "Results:\n",
      "session\n",
      "100004 [6942, 20268]\n",
      "30434 [6942]\n",
      "error:  -999\n",
      "\n",
      "purchases\n",
      "100004 [5418]\n",
      "30434 [24454]\n",
      "error:  2\n",
      "\n",
      "full list error (adding every purchase to a list where the session had overlap):\n",
      "full_list [2504, 17418, 23075, 11913, 15957, 8474, 14143, 19514, 23299, 23583, 17779, 5217, 740, 9478, 13815, 326, 24454, 9921, 18573, 580, 6145, 4573, 4005, 11132, 27193, 4540, 17166, 18058, 1623, 27455, 27931, 12479, 23705, 598, 3591, 6788, 24415, 27931, 5243, 1679, 26367]\n",
      "error:  42\n",
      "######\n",
      "\n",
      "\n",
      "sid 100007\n",
      "Results:\n",
      "session\n",
      "100007 [3911, 7756, 20688, 6274, 2465, 22017, 11132, 9184, 6274, 8907, 1018]\n",
      "30977 [3985, 16484, 10478, 6274, 4005, 11132, 13106, 25446, 27903, 12746]\n",
      "error:  -2984\n",
      "\n",
      "purchases\n",
      "100007 [18417]\n",
      "30977 [22275]\n",
      "error:  2\n",
      "\n",
      "full list error (adding every purchase to a list where the session had overlap):\n",
      "full_list [11065, 21781, 8060, 2504, 7035, 19044, 19160, 15373, 2100, 11619, 10111, 13424, 6261, 20843, 16427, 13296, 12511, 9427, 15687, 8861, 12781, 24593, 18657, 25250, 9185, 2465, 15514, 19969, 4758, 7100, 14398, 22752, 28008, 25093, 26916, 14735, 12614, 1818, 7145, 24539, 598, 18657, 19044, 21645, 15122, 13836, 14959, 4041, 22784, 7640, 21370, 23088, 26597, 5966, 12604, 15429, 18723, 12708, 23088, 7219, 17119, 13333, 16114, 5747, 326, 20689, 12781, 8317, 22275, 15592, 21138, 8751, 10595, 10468, 20262, 22747, 12014, 27613, 5026, 2098, 19284, 25273, 3913, 21176, 828, 8751, 3056, 12861, 7840, 7328, 6976, 598, 9522, 17961, 21188, 22512, 598, 10045, 15305, 3099, 294, 25444, 13643, 7963, 4005, 15344, 19150, 26643, 7213, 11244, 10595, 13296, 1640, 4260, 1143, 14306, 9827, 1818, 10096, 26379, 27613, 3976, 24549, 17372, 8591, 7179, 2149, 1368, 3859, 18497, 1644, 5099, 17730, 18723, 23088, 5747, 21574, 18947, 25314, 22954, 2098, 12467, 12708, 2447, 20629, 18737, 13922, 1018, 12094, 6570, 20629, 25273, 10983, 1603, 11491, 18156, 11284, 1924, 27455, 7241, 23286, 11053, 10603, 28114, 17239, 1640, 22704, 2173, 6617, 14392, 27613, 7444, 14592, 12614, 4407, 23299, 3257, 11166, 27713, 5749, 8821, 1725, 13083, 11212, 7600, 17820, 7640, 17089, 27661, 18230, 3195, 10250, 17089, 10017, 4028, 12535, 14197, 7477, 22551, 3195, 23088, 1640, 3891, 2224, 972, 17239, 17073, 3413, 23088, 13801, 11337, 23088, 16609, 7444, 7176, 27657, 26627]\n",
      "error:  218\n",
      "######\n",
      "\n",
      "\n",
      "Done\n"
     ]
    }
   ],
   "source": [
    "# find closest train sample for every test sample and print purchase overlap?\n",
    "for i, sid_test in enumerate(ses_dic_test):\n",
    "    print(\"sid\", sid_test)\n",
    "    s_test = ses_dic_test[sid_test]\n",
    "    \n",
    "    cur_error = np.inf\n",
    "    cur_sid = -1\n",
    "    \n",
    "    full_list = list()\n",
    "    # TODO: full_list_with_session_items?\n",
    "    \n",
    "    for sid_train in ses_dic_train:\n",
    "        s_train = ses_dic_train[sid_train]\n",
    "        error = overlap_error(s_test, s_train)\n",
    "                \n",
    "        if error < cur_error:\n",
    "            cur_error = error\n",
    "            cur_sid = sid_train\n",
    "        \n",
    "        if error < 0:\n",
    "            full_list += get_purchases_from_sid(sid_train)\n",
    "    \n",
    "    test_purchases = get_purchases_from_sid(sid_test)\n",
    "    pred_purchases = get_purchases_from_sid(cur_sid)\n",
    "    \n",
    "    print(\"Results:\")\n",
    "    \n",
    "    if True or overlap_error(test_purchases, full_list) < 0:\n",
    "        print(\"session\")\n",
    "        print(sid_test, s_test)\n",
    "        print(cur_sid, ses_dic_train[cur_sid])\n",
    "        print(\"error: \", overlap_error(s_test, ses_dic_train[cur_sid]))\n",
    "        print(\"\\npurchases\")\n",
    "        print(sid_test, test_purchases)\n",
    "        print(cur_sid, pred_purchases)\n",
    "        print(\"error: \", overlap_error(test_purchases, pred_purchases))\n",
    "\n",
    "        print(\"\\nfull list error (adding every purchase to a list where the session had overlap):\")\n",
    "        print(\"full_list\", full_list)        \n",
    "        print(\"error: \", overlap_error(test_purchases, full_list))\n",
    "        \n",
    "        print(\"######\\n\\n\")\n",
    "    \n",
    "    if i >= 1:\n",
    "        break\n",
    "    \n",
    "print(\"Done\")"
   ]
  }
 ],
 "metadata": {
  "kernelspec": {
   "display_name": "Python 3 (ipykernel)",
   "language": "python",
   "name": "python3"
  },
  "language_info": {
   "codemirror_mode": {
    "name": "ipython",
    "version": 3
   },
   "file_extension": ".py",
   "mimetype": "text/x-python",
   "name": "python",
   "nbconvert_exporter": "python",
   "pygments_lexer": "ipython3",
   "version": "3.9.7"
  }
 },
 "nbformat": 4,
 "nbformat_minor": 1
}